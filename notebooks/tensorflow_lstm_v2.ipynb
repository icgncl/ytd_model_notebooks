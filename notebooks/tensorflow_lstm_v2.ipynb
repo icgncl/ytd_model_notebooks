{
  "cells": [
    {
      "cell_type": "code",
      "execution_count": 89,
      "metadata": {
        "collapsed": true,
        "id": "V-Vmv2tnqvrt"
      },
      "outputs": [],
      "source": [
        "import numpy as np\n",
        "import tensorflow as tf\n",
        "import pandas as pd\n",
        "import matplotlib.pyplot as plt\n",
        "from sklearn.preprocessing import StandardScaler\n",
        "import datetime\n",
        "import os\n",
        "%matplotlib inline"
      ]
    },
    {
      "cell_type": "markdown",
      "metadata": {
        "id": "TguFmk71qvrv"
      },
      "source": [
        "### Step 0. Loading dataset"
      ]
    },
    {
      "cell_type": "code",
      "execution_count": 90,
      "metadata": {
        "collapsed": true,
        "id": "no9NmFNmqvrz"
      },
      "outputs": [],
      "source": [
        "stock = pd.read_csv('meta.us.txt')\n",
        "stock.columns = ['TICKER','PER','DATE','TIME','OPEN','HIGH','LOW','CLOSE','VOL','OPENINT']\n",
        "stock['TIME'] = pd.to_datetime(stock['TIME'],format='%H%M%S').dt.time\n",
        "stock['DATE'] = pd.to_datetime(stock['DATE'],format='%Y%m%d').dt.date"
      ]
    },
    {
      "cell_type": "code",
      "execution_count": 91,
      "metadata": {
        "colab": {
          "base_uri": "https://localhost:8080/",
          "height": 397
        },
        "id": "TL0w6hVMrMgN",
        "outputId": "ec644600-aa08-4ee4-b0c0-1d3be06a24ae"
      },
      "outputs": [
        {
          "name": "stdout",
          "output_type": "stream",
          "text": [
            "TICKER     0\n",
            "PER        0\n",
            "DATE       0\n",
            "TIME       0\n",
            "OPEN       0\n",
            "HIGH       0\n",
            "LOW        0\n",
            "CLOSE      0\n",
            "VOL        0\n",
            "OPENINT    0\n",
            "dtype: int64\n"
          ]
        },
        {
          "data": {
            "text/html": [
              "<div>\n",
              "<style scoped>\n",
              "    .dataframe tbody tr th:only-of-type {\n",
              "        vertical-align: middle;\n",
              "    }\n",
              "\n",
              "    .dataframe tbody tr th {\n",
              "        vertical-align: top;\n",
              "    }\n",
              "\n",
              "    .dataframe thead th {\n",
              "        text-align: right;\n",
              "    }\n",
              "</style>\n",
              "<table border=\"1\" class=\"dataframe\">\n",
              "  <thead>\n",
              "    <tr style=\"text-align: right;\">\n",
              "      <th></th>\n",
              "      <th>TICKER</th>\n",
              "      <th>PER</th>\n",
              "      <th>DATE</th>\n",
              "      <th>TIME</th>\n",
              "      <th>OPEN</th>\n",
              "      <th>HIGH</th>\n",
              "      <th>LOW</th>\n",
              "      <th>CLOSE</th>\n",
              "      <th>VOL</th>\n",
              "      <th>OPENINT</th>\n",
              "      <th>Date-time</th>\n",
              "    </tr>\n",
              "  </thead>\n",
              "  <tbody>\n",
              "    <tr>\n",
              "      <th>2021-12-30 16:00:00</th>\n",
              "      <td>META.US</td>\n",
              "      <td>60</td>\n",
              "      <td>2021-12-30</td>\n",
              "      <td>16:00:00</td>\n",
              "      <td>344.00</td>\n",
              "      <td>345.700</td>\n",
              "      <td>343.22</td>\n",
              "      <td>345.275</td>\n",
              "      <td>1227974</td>\n",
              "      <td>0</td>\n",
              "      <td>2021-12-30 16:00:00</td>\n",
              "    </tr>\n",
              "    <tr>\n",
              "      <th>2021-12-30 17:00:00</th>\n",
              "      <td>META.US</td>\n",
              "      <td>60</td>\n",
              "      <td>2021-12-30</td>\n",
              "      <td>17:00:00</td>\n",
              "      <td>345.29</td>\n",
              "      <td>346.570</td>\n",
              "      <td>344.75</td>\n",
              "      <td>344.750</td>\n",
              "      <td>1365663</td>\n",
              "      <td>0</td>\n",
              "      <td>2021-12-30 17:00:00</td>\n",
              "    </tr>\n",
              "    <tr>\n",
              "      <th>2021-12-30 18:00:00</th>\n",
              "      <td>META.US</td>\n",
              "      <td>60</td>\n",
              "      <td>2021-12-30</td>\n",
              "      <td>18:00:00</td>\n",
              "      <td>344.80</td>\n",
              "      <td>345.383</td>\n",
              "      <td>344.17</td>\n",
              "      <td>345.366</td>\n",
              "      <td>755072</td>\n",
              "      <td>0</td>\n",
              "      <td>2021-12-30 18:00:00</td>\n",
              "    </tr>\n",
              "    <tr>\n",
              "      <th>2021-12-30 19:00:00</th>\n",
              "      <td>META.US</td>\n",
              "      <td>60</td>\n",
              "      <td>2021-12-30</td>\n",
              "      <td>19:00:00</td>\n",
              "      <td>345.37</td>\n",
              "      <td>345.900</td>\n",
              "      <td>345.13</td>\n",
              "      <td>345.493</td>\n",
              "      <td>544627</td>\n",
              "      <td>0</td>\n",
              "      <td>2021-12-30 19:00:00</td>\n",
              "    </tr>\n",
              "    <tr>\n",
              "      <th>2021-12-30 20:00:00</th>\n",
              "      <td>META.US</td>\n",
              "      <td>60</td>\n",
              "      <td>2021-12-30</td>\n",
              "      <td>20:00:00</td>\n",
              "      <td>345.49</td>\n",
              "      <td>346.696</td>\n",
              "      <td>345.28</td>\n",
              "      <td>346.535</td>\n",
              "      <td>565582</td>\n",
              "      <td>0</td>\n",
              "      <td>2021-12-30 20:00:00</td>\n",
              "    </tr>\n",
              "  </tbody>\n",
              "</table>\n",
              "</div>"
            ],
            "text/plain": [
              "                      TICKER  PER        DATE      TIME    OPEN     HIGH  \\\n",
              "2021-12-30 16:00:00  META.US   60  2021-12-30  16:00:00  344.00  345.700   \n",
              "2021-12-30 17:00:00  META.US   60  2021-12-30  17:00:00  345.29  346.570   \n",
              "2021-12-30 18:00:00  META.US   60  2021-12-30  18:00:00  344.80  345.383   \n",
              "2021-12-30 19:00:00  META.US   60  2021-12-30  19:00:00  345.37  345.900   \n",
              "2021-12-30 20:00:00  META.US   60  2021-12-30  20:00:00  345.49  346.696   \n",
              "\n",
              "                        LOW    CLOSE      VOL  OPENINT           Date-time  \n",
              "2021-12-30 16:00:00  343.22  345.275  1227974        0 2021-12-30 16:00:00  \n",
              "2021-12-30 17:00:00  344.75  344.750  1365663        0 2021-12-30 17:00:00  \n",
              "2021-12-30 18:00:00  344.17  345.366   755072        0 2021-12-30 18:00:00  \n",
              "2021-12-30 19:00:00  345.13  345.493   544627        0 2021-12-30 19:00:00  \n",
              "2021-12-30 20:00:00  345.28  346.535   565582        0 2021-12-30 20:00:00  "
            ]
          },
          "execution_count": 91,
          "metadata": {},
          "output_type": "execute_result"
        }
      ],
      "source": [
        "\n",
        "print(stock.isnull().sum())                     \n",
        "stock.groupby(by=[\"TIME\"]).count()\n",
        "stock = stock[(stock.TIME!=datetime.time(15,0,0))]\n",
        "stock['Date-time'] = pd.to_datetime(stock.DATE.astype(str) + ' ' + stock.TIME.astype(str))\n",
        "stock=stock.set_index(pd.DatetimeIndex(stock['Date-time'].values))\n",
        "stock.head()                        "
      ]
    },
    {
      "cell_type": "code",
      "execution_count": 92,
      "metadata": {
        "collapsed": true,
        "id": "83j5Dbpqqvr2"
      },
      "outputs": [],
      "source": [
        "data_to_use = stock['CLOSE'].values"
      ]
    },
    {
      "cell_type": "code",
      "execution_count": 93,
      "metadata": {
        "colab": {
          "base_uri": "https://localhost:8080/"
        },
        "id": "4DwEqcF_qvr3",
        "outputId": "9dc3a524-6c9e-438d-a323-d1eed47f213a"
      },
      "outputs": [
        {
          "name": "stdout",
          "output_type": "stream",
          "text": [
            "Total number of data points in the dataset: 1446\n"
          ]
        }
      ],
      "source": [
        "print('Total number of data points in the dataset: {}'.format(len(data_to_use)))"
      ]
    },
    {
      "cell_type": "markdown",
      "metadata": {
        "id": "gWwk0aP7qvr5"
      },
      "source": [
        "### Step 1. Data preprocessing"
      ]
    },
    {
      "cell_type": "markdown",
      "metadata": {
        "id": "dMucVcC0qvr6"
      },
      "source": [
        "#### Step 1.1 Scaling data"
      ]
    },
    {
      "cell_type": "code",
      "execution_count": 94,
      "metadata": {
        "collapsed": true,
        "id": "iASKlg9dqvr8"
      },
      "outputs": [],
      "source": [
        "scaler = StandardScaler()"
      ]
    },
    {
      "cell_type": "code",
      "execution_count": 95,
      "metadata": {
        "id": "4f7rRcYTqvr9"
      },
      "outputs": [],
      "source": [
        "scaled_dataset = scaler.fit_transform(data_to_use.reshape(-1, 1))"
      ]
    },
    {
      "cell_type": "code",
      "execution_count": 96,
      "metadata": {
        "colab": {
          "base_uri": "https://localhost:8080/",
          "height": 444
        },
        "id": "SesanYmJqvr_",
        "outputId": "441dc8e6-4402-417a-d43f-15227e9afe65",
        "scrolled": true
      },
      "outputs": [
        {
          "data": {
            "image/png": "[encoded data removed]",
            "text/plain": [
              "<Figure size 864x504 with 1 Axes>"
            ]
          },
          "metadata": {},
          "output_type": "display_data"
        }
      ],
      "source": [
        "plt.figure(figsize=(12,7), frameon=False, facecolor='brown', edgecolor='blue')\n",
        "plt.title('Scaled META Stock Price Change from December 2021 to October 2022')\n",
        "plt.ylabel('Scaled value of stocks')\n",
        "plt.plot(scaled_dataset, label='Stocks data')\n",
        "plt.legend()\n",
        "plt.show()"
      ]
    },
    {
      "cell_type": "code",
      "execution_count": 97,
      "metadata": {
        "collapsed": true,
        "id": "3yIvqaGrqvsA"
      },
      "outputs": [],
      "source": [
        "def window_data(data, window_size):\n",
        "    X = []\n",
        "    y = []\n",
        "    \n",
        "    i = 0\n",
        "    while (i + window_size) <= len(data) - 1:\n",
        "        X.append(data[i:i+window_size])\n",
        "        y.append(data[i+window_size])\n",
        "        \n",
        "        i += 1\n",
        "    assert len(X) ==  len(y)\n",
        "    return X, y"
      ]
    },
    {
      "cell_type": "markdown",
      "metadata": {
        "id": "I6xH3uxaqvsB"
      },
      "source": [
        "#### Step 1.2 Windowing the dataset"
      ]
    },
    {
      "cell_type": "code",
      "execution_count": 98,
      "metadata": {
        "id": "GnV715rmqvsB"
      },
      "outputs": [],
      "source": [
        "X, y = window_data(scaled_dataset, 1)"
      ]
    },
    {
      "cell_type": "markdown",
      "metadata": {
        "id": "ieyC5kGVqvsC"
      },
      "source": [
        "#### Step 1.3 Creating Training and Testing sets"
      ]
    },
    {
      "cell_type": "code",
      "execution_count": 99,
      "metadata": {
        "colab": {
          "base_uri": "https://localhost:8080/"
        },
        "id": "TjTujctLqvsD",
        "outputId": "a50661a5-cfbf-4ac0-ff05-45105bda3df4"
      },
      "outputs": [
        {
          "name": "stdout",
          "output_type": "stream",
          "text": [
            "X_train size: (1155, 1, 1)\n",
            "y_train size: (1155, 1)\n",
            "X_test size: (290, 1, 1)\n",
            "y_test size: (290, 1)\n"
          ]
        }
      ],
      "source": [
        "X_train  = np.array(X[:1155])\n",
        "y_train = np.array(y[:1155])\n",
        "\n",
        "X_test = np.array(X[1155:])\n",
        "y_test = np.array(y[1155:])\n",
        "\n",
        "print(\"X_train size: {}\".format(X_train.shape))\n",
        "print(\"y_train size: {}\".format(y_train.shape))\n",
        "print(\"X_test size: {}\".format(X_test.shape))\n",
        "print(\"y_test size: {}\".format(y_test.shape))"
      ]
    },
    {
      "cell_type": "markdown",
      "metadata": {
        "id": "tD1uPSarqvsD"
      },
      "source": [
        "### Let's create the RNN"
      ]
    },
    {
      "cell_type": "code",
      "execution_count": 100,
      "metadata": {
        "collapsed": true,
        "id": "pxRXGvtXqvsE"
      },
      "outputs": [],
      "source": [
        "epochs = 50\n",
        "batch_size = 2"
      ]
    },
    {
      "cell_type": "code",
      "execution_count": 101,
      "metadata": {
        "collapsed": true,
        "id": "7_xwg2dJqvsE"
      },
      "outputs": [],
      "source": [
        "def LSTM_cell(hidden_layer_size, batch_size,number_of_layers, dropout=True, dropout_rate=0.8):\n",
        "    \n",
        "    layer = tf.compat.v1.nn.rnn_cell.BasicLSTMCell(hidden_layer_size)\n",
        "    \n",
        "    if dropout:\n",
        "        layer = tf.compat.v1.nn.rnn_cell.DropoutWrapper(layer, output_keep_prob=dropout_rate)\n",
        "        \n",
        "    cell = tf.compat.v1.nn.rnn_cell.MultiRNNCell([layer]*number_of_layers)\n",
        "    \n",
        "    init_state = cell.zero_state(batch_size, tf.float32)\n",
        "    \n",
        "    return cell, init_state"
      ]
    },
    {
      "cell_type": "code",
      "execution_count": 102,
      "metadata": {
        "collapsed": true,
        "id": "KBn3vRWwqvsE"
      },
      "outputs": [],
      "source": [
        "def output_layer(lstm_output, in_size, out_size):\n",
        "    \n",
        "    x = lstm_output[:, -1, :]\n",
        "    print(x)\n",
        "    weights = tf.Variable(tf.compat.v1.random.truncated_normal([in_size, out_size], stddev=0.05), name='output_layer_weights')\n",
        "    bias = tf.Variable(tf.zeros([out_size]), name='output_layer_bias')\n",
        "    \n",
        "    output = tf.matmul(x, weights) + bias\n",
        "    return output"
      ]
    },
    {
      "cell_type": "code",
      "execution_count": 103,
      "metadata": {
        "collapsed": true,
        "id": "U6aqRQuyqvsF"
      },
      "outputs": [],
      "source": [
        "def opt_loss(logits, targets, learning_rate, grad_clip_margin):\n",
        "    \n",
        "    losses = []\n",
        "    for i in range(targets.get_shape()[0]):\n",
        "        losses.append([(tf.pow(logits[i] - targets[i], 2))])\n",
        "        \n",
        "    loss = tf.reduce_sum(losses)/(2*batch_size)\n",
        "    \n",
        "    #Cliping the gradient loss\n",
        "    gradients = tf.gradients(loss, tf.compat.v1.trainable_variables())\n",
        "    clipper_, _ = tf.clip_by_global_norm(gradients, grad_clip_margin)\n",
        "    optimizer = tf.optimizers.Adam(learning_rate)\n",
        "    train_optimizer = optimizer.apply_gradients(zip(gradients, tf.compat.v1.trainable_variables()))\n",
        "    return loss, train_optimizer"
      ]
    },
    {
      "cell_type": "code",
      "execution_count": 104,
      "metadata": {
        "id": "TX93N2DYqvsF"
      },
      "outputs": [],
      "source": [
        "class StockPredictionRNN(object):\n",
        "    \n",
        "    def __init__(self, learning_rate=0.0005, batch_size=2, hidden_layer_size=512, number_of_layers=1, \n",
        "                 dropout=True, dropout_rate=0.8, number_of_classes=1, gradient_clip_margin=4, window_size=1):\n",
        "    \n",
        "        tf.compat.v1.disable_eager_execution()\n",
        "        self.inputs = tf.compat.v1.placeholder(tf.float32, [batch_size, window_size, 1], name='input_data')\n",
        "        self.targets = tf.compat.v1.placeholder(tf.float32, [batch_size, 1], name='targets')\n",
        "\n",
        "        cell, init_state = LSTM_cell(hidden_layer_size, batch_size, number_of_layers, dropout, dropout_rate)\n",
        "\n",
        "        outputs, states = tf.compat.v1.nn.dynamic_rnn(cell, self.inputs, initial_state=init_state)\n",
        "\n",
        "        self.logits = output_layer(outputs, hidden_layer_size, number_of_classes)\n",
        "\n",
        "        self.loss, self.opt = opt_loss(self.logits, self.targets, learning_rate, gradient_clip_margin)"
      ]
    },
    {
      "cell_type": "code",
      "execution_count": 105,
      "metadata": {
        "colab": {
          "base_uri": "https://localhost:8080/"
        },
        "id": "NvBJC2cuqvsH",
        "outputId": "684f5440-945b-4e3c-fff6-03d5ed79a086"
      },
      "outputs": [
        {
          "name": "stdout",
          "output_type": "stream",
          "text": [
            "WARNING:tensorflow:`tf.nn.rnn_cell.MultiRNNCell` is deprecated. This class is equivalent as `tf.keras.layers.StackedRNNCells`, and will be replaced by that in Tensorflow 2.0.\n"
          ]
        },
        {
          "name": "stderr",
          "output_type": "stream",
          "text": [
            "D:\\ProgramData\\Anaconda3\\envs\\default\\lib\\site-packages\\tensorflow\\python\\keras\\layers\\legacy_rnn\\rnn_cell_impl.py:708: UserWarning: `tf.nn.rnn_cell.BasicLSTMCell` is deprecated and will be removed in a future version. This class is equivalent as `tf.keras.layers.LSTMCell`, and will be replaced by that in Tensorflow 2.0.\n",
            "  warnings.warn(\"`tf.nn.rnn_cell.BasicLSTMCell` is deprecated and will be \"\n",
            "D:\\ProgramData\\Anaconda3\\envs\\default\\lib\\site-packages\\tensorflow\\python\\keras\\engine\\base_layer_v1.py:1700: UserWarning: `layer.add_variable` is deprecated and will be removed in a future version. Please use `layer.add_weight` method instead.\n",
            "  warnings.warn('`layer.add_variable` is deprecated and '\n"
          ]
        },
        {
          "name": "stdout",
          "output_type": "stream",
          "text": [
            "Tensor(\"strided_slice:0\", shape=(2, 512), dtype=float32)\n"
          ]
        }
      ],
      "source": [
        "tf.compat.v1.reset_default_graph()\n",
        "model = StockPredictionRNN()"
      ]
    },
    {
      "cell_type": "markdown",
      "metadata": {
        "id": "wATzoNzaqvsI"
      },
      "source": [
        "### Time to train the network"
      ]
    },
    {
      "cell_type": "code",
      "execution_count": 106,
      "metadata": {
        "collapsed": true,
        "id": "-eh4wRg8qvsI"
      },
      "outputs": [],
      "source": [
        "session =  tf.compat.v1.Session()"
      ]
    },
    {
      "cell_type": "code",
      "execution_count": 107,
      "metadata": {
        "collapsed": true,
        "id": "rNUbTFgwqvsJ"
      },
      "outputs": [],
      "source": [
        "session.run(tf.compat.v1.global_variables_initializer())"
      ]
    },
    {
      "cell_type": "code",
      "execution_count": 108,
      "metadata": {
        "colab": {
          "base_uri": "https://localhost:8080/"
        },
        "id": "qiyoA-_KqvsJ",
        "outputId": "349dff05-4feb-4640-b07d-7e1de606a287"
      },
      "outputs": [
        {
          "name": "stdout",
          "output_type": "stream",
          "text": [
            "Epoch 0/50  Current loss: 0.2927032709121704\n",
            "Epoch 1/50  Current loss: 0.019089750945568085\n",
            "Epoch 2/50  Current loss: 0.002924109110608697\n",
            "Epoch 3/50  Current loss: 0.0026992347557097673\n",
            "Epoch 4/50  Current loss: 0.0026984186843037605\n",
            "Epoch 5/50  Current loss: 0.003002522047609091\n",
            "Epoch 6/50  Current loss: 0.003035019850358367\n",
            "Epoch 7/50  Current loss: 0.002726248698309064\n",
            "Epoch 8/50  Current loss: 0.0026982754934579134\n",
            "Epoch 9/50  Current loss: 0.0028515553567558527\n",
            "Epoch 10/50  Current loss: 0.00277641206048429\n",
            "Epoch 11/50  Current loss: 0.0031760474666953087\n",
            "Epoch 12/50  Current loss: 0.0029674486722797155\n",
            "Epoch 13/50  Current loss: 0.002768764505162835\n",
            "Epoch 14/50  Current loss: 0.0030504674650728703\n",
            "Epoch 15/50  Current loss: 0.003238087985664606\n",
            "Epoch 16/50  Current loss: 0.003141584573313594\n",
            "Epoch 17/50  Current loss: 0.003212997689843178\n",
            "Epoch 18/50  Current loss: 0.0034887120127677917\n",
            "Epoch 19/50  Current loss: 0.00316074350848794\n",
            "Epoch 20/50  Current loss: 0.0030816865619271994\n",
            "Epoch 21/50  Current loss: 0.0033371271565556526\n",
            "Epoch 22/50  Current loss: 0.0029804755467921495\n",
            "Epoch 23/50  Current loss: 0.0032227742485702038\n",
            "Epoch 24/50  Current loss: 0.0032929980661720037\n",
            "Epoch 25/50  Current loss: 0.0030687155667692423\n",
            "Epoch 26/50  Current loss: 0.0032717434223741293\n",
            "Epoch 27/50  Current loss: 0.0033323385287076235\n",
            "Epoch 28/50  Current loss: 0.003094021463766694\n",
            "Epoch 29/50  Current loss: 0.0029024642426520586\n",
            "Epoch 30/50  Current loss: 0.0032259756699204445\n",
            "Epoch 31/50  Current loss: 0.003261514939367771\n",
            "Epoch 32/50  Current loss: 0.0031518626492470503\n",
            "Epoch 33/50  Current loss: 0.0032786261290311813\n",
            "Epoch 34/50  Current loss: 0.003242773236706853\n",
            "Epoch 35/50  Current loss: 0.0032312048133462667\n",
            "Epoch 36/50  Current loss: 0.003160489024594426\n",
            "Epoch 37/50  Current loss: 0.0031229890882968903\n",
            "Epoch 38/50  Current loss: 0.0028564680833369493\n",
            "Epoch 39/50  Current loss: 0.003324466058984399\n",
            "Epoch 40/50  Current loss: 0.0030845918226987123\n",
            "Epoch 41/50  Current loss: 0.0030370319727808237\n",
            "Epoch 42/50  Current loss: 0.0032585517037659883\n",
            "Epoch 43/50  Current loss: 0.003294074209406972\n",
            "Epoch 44/50  Current loss: 0.0033342826645821333\n",
            "Epoch 45/50  Current loss: 0.0032513521146029234\n",
            "Epoch 46/50  Current loss: 0.003281845711171627\n",
            "Epoch 47/50  Current loss: 0.00295920018106699\n",
            "Epoch 48/50  Current loss: 0.0029782336205244064\n",
            "Epoch 49/50  Current loss: 0.003199468133971095\n"
          ]
        }
      ],
      "source": [
        "for i in range(epochs):\n",
        "    traind_scores = []\n",
        "    ii = 0\n",
        "    epoch_loss = []\n",
        "    while(ii + batch_size) <= len(X_train):\n",
        "        X_batch = X_train[ii:ii+batch_size]\n",
        "        y_batch = y_train[ii:ii+batch_size]\n",
        "        \n",
        "        o, c, _ = session.run([model.logits, model.loss, model.opt], feed_dict={model.inputs:X_batch, model.targets:y_batch})\n",
        "        \n",
        "        epoch_loss.append(c)\n",
        "        traind_scores.append(o)\n",
        "        ii += batch_size\n",
        "    print('Epoch {}/{}'.format(i, epochs), ' Current loss: {}'.format(np.mean(epoch_loss)))"
      ]
    },
    {
      "cell_type": "code",
      "execution_count": 109,
      "metadata": {
        "collapsed": true,
        "id": "o_FlE65TqvsK"
      },
      "outputs": [],
      "source": [
        "sup =[]\n",
        "for i in range(len(traind_scores)):\n",
        "    for j in range(len(traind_scores[i])):\n",
        "        sup.append(traind_scores[i][j])"
      ]
    },
    {
      "cell_type": "code",
      "execution_count": 110,
      "metadata": {
        "collapsed": true,
        "id": "rMZzVzI1qvsL"
      },
      "outputs": [],
      "source": [
        "tests = []\n",
        "i = 0\n",
        "while i+batch_size <= len(X_test):\n",
        "    \n",
        "    o = session.run([model.logits], feed_dict={model.inputs:X_test[i:i+batch_size]})\n",
        "    i += batch_size\n",
        "    tests.append(o)\n"
      ]
    },
    {
      "cell_type": "code",
      "execution_count": 111,
      "metadata": {
        "collapsed": true,
        "id": "4LVvLBcbqvsN"
      },
      "outputs": [],
      "source": [
        "tests_new = []\n",
        "for i in range(len(tests)):\n",
        "    for j in range(len(tests[i][0])):\n",
        "        tests_new.append(tests[i][0][j])"
      ]
    },
    {
      "cell_type": "code",
      "execution_count": 112,
      "metadata": {
        "colab": {
          "base_uri": "https://localhost:8080/"
        },
        "id": "PG445UtcqvsN",
        "outputId": "4e90d18e-5c47-4739-9e9d-ea005359ea6f"
      },
      "outputs": [
        {
          "data": {
            "text/plain": [
              "145"
            ]
          },
          "execution_count": 112,
          "metadata": {},
          "output_type": "execute_result"
        }
      ],
      "source": [
        "len(tests)"
      ]
    },
    {
      "cell_type": "code",
      "execution_count": 113,
      "metadata": {
        "colab": {
          "base_uri": "https://localhost:8080/"
        },
        "collapsed": true,
        "id": "Hj9bbEDMqvsO",
        "outputId": "a31c6905-487d-4c2c-aa0b-57bbed9f9be5"
      },
      "outputs": [
        {
          "data": {
            "text/plain": [
              "1446"
            ]
          },
          "execution_count": 113,
          "metadata": {},
          "output_type": "execute_result"
        }
      ],
      "source": [
        "test_results = []\n",
        "for i in range(1446):\n",
        "    if i >= 1156:\n",
        "        test_results.append(tests_new[i-1156])\n",
        "    else:\n",
        "        test_results.append(None)\n",
        "\n",
        "len(test_results)"
      ]
    },
    {
      "cell_type": "markdown",
      "metadata": {
        "id": "KuSk4ZLtqvsO"
      },
      "source": [
        "### Plotting predictions from the network"
      ]
    },
    {
      "cell_type": "code",
      "execution_count": 114,
      "metadata": {
        "colab": {
          "base_uri": "https://localhost:8080/",
          "height": 483
        },
        "id": "V0g-2X9dqvsP",
        "outputId": "33bcf0e2-8b44-411d-d84d-f0cb079b5bea"
      },
      "outputs": [
        {
          "name": "stderr",
          "output_type": "stream",
          "text": [
            "D:\\ProgramData\\Anaconda3\\envs\\default\\lib\\site-packages\\numpy\\core\\_asarray.py:136: VisibleDeprecationWarning: Creating an ndarray from ragged nested sequences (which is a list-or-tuple of lists-or-tuples-or ndarrays with different lengths or shapes) is deprecated. If you meant to do this, you must specify 'dtype=object' when creating the ndarray\n",
            "  return array(a, dtype, copy=False, order=order, subok=True)\n"
          ]
        },
        {
          "data": {
            "image/png": "[encoded data removed]",
            "text/plain": [
              "<Figure size 1152x504 with 1 Axes>"
            ]
          },
          "metadata": {
            "needs_background": "light"
          },
          "output_type": "display_data"
        }
      ],
      "source": [
        "plt.figure(figsize=(16, 7))\n",
        "plt.plot(scaled_dataset, label='Original data')\n",
        "plt.plot(sup, label='Training data')\n",
        "plt.plot(test_results, label='Testing data')\n",
        "plt.legend()\n",
        "plt.show()"
      ]
    },
    {
      "cell_type": "code",
      "execution_count": 115,
      "metadata": {
        "id": "R0tlKpJcvmV4"
      },
      "outputs": [],
      "source": [
        "def calculate_mape(y_true, y_pred): \n",
        "    \"\"\"\n",
        "    Calculate the Mean Absolute Percentage Error (MAPE) %\n",
        "    \"\"\"\n",
        "    y_pred, y_true = np.array(y_pred), np.array(y_true)    \n",
        "    mape = np.mean(np.abs((y_true-y_pred) / y_true))*100  "
      ]
    },
    {
      "cell_type": "code",
      "execution_count": 116,
      "metadata": {
        "id": "BrfBWgpzFAfJ"
      },
      "outputs": [],
      "source": [
        "def calculate_rmse(y_true, y_pred):\n",
        "    \"\"\"\n",
        "    Calculate the Root Mean Squared Error (RMSE)  \n",
        "    \"\"\"\n",
        "    rmse = np.sqrt(np.mean((y_true-y_pred)**2))                   \n",
        "    return rmse"
      ]
    },
    {
      "cell_type": "code",
      "execution_count": 117,
      "metadata": {
        "id": "yLKNBfuRLE2d"
      },
      "outputs": [],
      "source": [
        "def calculate_mape(y_true, y_pred): \n",
        "    \"\"\"\n",
        "    Calculate the Mean Absolute Percentage Error (MAPE) %\n",
        "    \"\"\"\n",
        "    y_pred, y_true = np.array(y_pred), np.array(y_true)    \n",
        "    mape = np.mean(np.abs((y_true-y_pred) / y_true))*100    \n",
        "    return mape"
      ]
    },
    {
      "cell_type": "code",
      "execution_count": 118,
      "metadata": {
        "id": "20xsZcmSxDeX"
      },
      "outputs": [],
      "source": [
        "y_true = np.array(scaled_dataset[1158:1446])\n",
        "y_pred= np.array(test_results[1158:1446])\n",
        "mape_lstm=calculate_mape(y_true, y_pred)"
      ]
    },
    {
      "cell_type": "code",
      "execution_count": 119,
      "metadata": {
        "id": "SXQZupl0FD9D"
      },
      "outputs": [],
      "source": [
        "rmse_lstm=calculate_rmse(scaler.inverse_transform(y_true), scaler.inverse_transform(y_pred))"
      ]
    },
    {
      "cell_type": "code",
      "execution_count": 120,
      "metadata": {
        "colab": {
          "base_uri": "https://localhost:8080/"
        },
        "id": "CSpxEh2UfgUE",
        "outputId": "fe8e0c3d-a065-4ccd-afa7-b19ef33ace06"
      },
      "outputs": [
        {
          "name": "stdout",
          "output_type": "stream",
          "text": [
            "RMSE: 2.58\n",
            "MAPE: 3.75%\n"
          ]
        }
      ],
      "source": [
        "print(\"RMSE:\", '{0:.2f}'.format(rmse_lstm))\n",
        "print(\"MAPE:\",'{0:.2f}%'.format(mape_lstm))"
      ]
    },
    {
      "cell_type": "code",
      "execution_count": 126,
      "metadata": {},
      "outputs": [
        {
          "name": "stdout",
          "output_type": "stream",
          "text": [
            "\n",
            "export_path = tf_model\\tensorflow_lstm\n",
            " Volume in drive D is LENOVO\n",
            " Volume Serial Number is 0A96-A90F\n"
          ]
        },
        {
          "name": "stderr",
          "output_type": "stream",
          "text": [
            "File Not Found\n"
          ]
        },
        {
          "name": "stdout",
          "output_type": "stream",
          "text": [
            "\n",
            " Directory of d:\\git\\ytd_model_notebooks\\notebooks\\tf_model\n",
            "\n"
          ]
        }
      ],
      "source": [
        "# https://cv-tricks.com/tensorflow-tutorial/save-restore-tensorflow-models-quick-complete-tutorial/\n",
        "MODEL_DIR='tf_model'\n",
        "version = \"tensorflow_lstm\"\n",
        "export_path = os.path.join(MODEL_DIR, str(version))\n",
        "#Save the model \n",
        "saver = tf.compat.v1.train.Saver()\n",
        "saver.save(session, export_path)\n",
        "# model.save(export_path, save_format=\"tf\")\n",
        "print('\\nexport_path = {}'.format(export_path))\n",
        "!dir {export_path}"
      ]
    },
    {
      "cell_type": "code",
      "execution_count": null,
      "metadata": {
        "collapsed": true,
        "id": "HuOYfbNfqvsQ"
      },
      "outputs": [],
      "source": [
        "session.close()"
      ]
    },
    {
      "cell_type": "markdown",
      "metadata": {
        "id": "dLNsUyEVqvsQ"
      },
      "source": [
        "### References\n",
        "https://modelzoo.co/model/tesla-stocks-prediction  \n",
        "https://github.com/lucko515/tesla-stocks-prediction  "
      ]
    }
  ],
  "metadata": {
    "anaconda-cloud": {},
    "colab": {
      "provenance": []
    },
    "kernelspec": {
      "display_name": "Python 3",
      "language": "python",
      "name": "python3"
    },
    "language_info": {
      "codemirror_mode": {
        "name": "ipython",
        "version": 3
      },
      "file_extension": ".py",
      "mimetype": "text/x-python",
      "name": "python",
      "nbconvert_exporter": "python",
      "pygments_lexer": "ipython3",
      "version": "3.9.12"
    }
  },
  "nbformat": 4,
  "nbformat_minor": 0
}
