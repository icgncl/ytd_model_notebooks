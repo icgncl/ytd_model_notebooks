{
  "cells": [
    {
      "cell_type": "code",
      "execution_count": 1,
      "metadata": {
        "collapsed": true,
        "id": "V-Vmv2tnqvrt"
      },
      "outputs": [],
      "source": [
        "import numpy as np\n",
        "import tensorflow as tf\n",
        "import pandas as pd\n",
        "import matplotlib.pyplot as plt\n",
        "from sklearn.preprocessing import StandardScaler\n",
        "import datetime\n",
        "%matplotlib inline"
      ]
    },
    {
      "cell_type": "markdown",
      "metadata": {
        "id": "TguFmk71qvrv"
      },
      "source": [
        "### Step 0. Loading dataset"
      ]
    },
    {
      "cell_type": "code",
      "execution_count": 2,
      "metadata": {
        "collapsed": true,
        "id": "no9NmFNmqvrz"
      },
      "outputs": [],
      "source": [
        "stock = pd.read_csv('meta.us.txt')\n",
        "stock.columns = ['TICKER','PER','DATE','TIME','OPEN','HIGH','LOW','CLOSE','VOL','OPENINT']\n",
        "stock['TIME'] = pd.to_datetime(stock['TIME'],format='%H%M%S').dt.time\n",
        "stock['DATE'] = pd.to_datetime(stock['DATE'],format='%Y%m%d').dt.date"
      ]
    },
    {
      "cell_type": "code",
      "source": [
        "\n",
        "print(stock.isnull().sum())                     \n",
        "stock.groupby(by=[\"TIME\"]).count()\n",
        "stock = stock[(stock.TIME!=datetime.time(15,0,0))]\n",
        "stock['Date-time'] = pd.to_datetime(stock.DATE.astype(str) + ' ' + stock.TIME.astype(str))\n",
        "stock=stock.set_index(pd.DatetimeIndex(stock['Date-time'].values))\n",
        "stock.head()                        "
      ],
      "metadata": {
        "id": "TL0w6hVMrMgN",
        "outputId": "ec644600-aa08-4ee4-b0c0-1d3be06a24ae",
        "colab": {
          "base_uri": "https://localhost:8080/",
          "height": 397
        }
      },
      "execution_count": 3,
      "outputs": [
        {
          "output_type": "stream",
          "name": "stdout",
          "text": [
            "TICKER     0\n",
            "PER        0\n",
            "DATE       0\n",
            "TIME       0\n",
            "OPEN       0\n",
            "HIGH       0\n",
            "LOW        0\n",
            "CLOSE      0\n",
            "VOL        0\n",
            "OPENINT    0\n",
            "dtype: int64\n"
          ]
        },
        {
          "output_type": "execute_result",
          "data": {
            "text/plain": [
              "                      TICKER  PER        DATE      TIME    OPEN     HIGH  \\\n",
              "2021-12-30 16:00:00  META.US   60  2021-12-30  16:00:00  344.00  345.700   \n",
              "2021-12-30 17:00:00  META.US   60  2021-12-30  17:00:00  345.29  346.570   \n",
              "2021-12-30 18:00:00  META.US   60  2021-12-30  18:00:00  344.80  345.383   \n",
              "2021-12-30 19:00:00  META.US   60  2021-12-30  19:00:00  345.37  345.900   \n",
              "2021-12-30 20:00:00  META.US   60  2021-12-30  20:00:00  345.49  346.696   \n",
              "\n",
              "                        LOW    CLOSE      VOL  OPENINT           Date-time  \n",
              "2021-12-30 16:00:00  343.22  345.275  1227974        0 2021-12-30 16:00:00  \n",
              "2021-12-30 17:00:00  344.75  344.750  1365663        0 2021-12-30 17:00:00  \n",
              "2021-12-30 18:00:00  344.17  345.366   755072        0 2021-12-30 18:00:00  \n",
              "2021-12-30 19:00:00  345.13  345.493   544627        0 2021-12-30 19:00:00  \n",
              "2021-12-30 20:00:00  345.28  346.535   565582        0 2021-12-30 20:00:00  "
            ],
            "text/html": [
              "\n",
              "  <div id=\"df-7d36987f-a19c-48bc-bf94-854785be710a\">\n",
              "    <div class=\"colab-df-container\">\n",
              "      <div>\n",
              "<style scoped>\n",
              "    .dataframe tbody tr th:only-of-type {\n",
              "        vertical-align: middle;\n",
              "    }\n",
              "\n",
              "    .dataframe tbody tr th {\n",
              "        vertical-align: top;\n",
              "    }\n",
              "\n",
              "    .dataframe thead th {\n",
              "        text-align: right;\n",
              "    }\n",
              "</style>\n",
              "<table border=\"1\" class=\"dataframe\">\n",
              "  <thead>\n",
              "    <tr style=\"text-align: right;\">\n",
              "      <th></th>\n",
              "      <th>TICKER</th>\n",
              "      <th>PER</th>\n",
              "      <th>DATE</th>\n",
              "      <th>TIME</th>\n",
              "      <th>OPEN</th>\n",
              "      <th>HIGH</th>\n",
              "      <th>LOW</th>\n",
              "      <th>CLOSE</th>\n",
              "      <th>VOL</th>\n",
              "      <th>OPENINT</th>\n",
              "      <th>Date-time</th>\n",
              "    </tr>\n",
              "  </thead>\n",
              "  <tbody>\n",
              "    <tr>\n",
              "      <th>2021-12-30 16:00:00</th>\n",
              "      <td>META.US</td>\n",
              "      <td>60</td>\n",
              "      <td>2021-12-30</td>\n",
              "      <td>16:00:00</td>\n",
              "      <td>344.00</td>\n",
              "      <td>345.700</td>\n",
              "      <td>343.22</td>\n",
              "      <td>345.275</td>\n",
              "      <td>1227974</td>\n",
              "      <td>0</td>\n",
              "      <td>2021-12-30 16:00:00</td>\n",
              "    </tr>\n",
              "    <tr>\n",
              "      <th>2021-12-30 17:00:00</th>\n",
              "      <td>META.US</td>\n",
              "      <td>60</td>\n",
              "      <td>2021-12-30</td>\n",
              "      <td>17:00:00</td>\n",
              "      <td>345.29</td>\n",
              "      <td>346.570</td>\n",
              "      <td>344.75</td>\n",
              "      <td>344.750</td>\n",
              "      <td>1365663</td>\n",
              "      <td>0</td>\n",
              "      <td>2021-12-30 17:00:00</td>\n",
              "    </tr>\n",
              "    <tr>\n",
              "      <th>2021-12-30 18:00:00</th>\n",
              "      <td>META.US</td>\n",
              "      <td>60</td>\n",
              "      <td>2021-12-30</td>\n",
              "      <td>18:00:00</td>\n",
              "      <td>344.80</td>\n",
              "      <td>345.383</td>\n",
              "      <td>344.17</td>\n",
              "      <td>345.366</td>\n",
              "      <td>755072</td>\n",
              "      <td>0</td>\n",
              "      <td>2021-12-30 18:00:00</td>\n",
              "    </tr>\n",
              "    <tr>\n",
              "      <th>2021-12-30 19:00:00</th>\n",
              "      <td>META.US</td>\n",
              "      <td>60</td>\n",
              "      <td>2021-12-30</td>\n",
              "      <td>19:00:00</td>\n",
              "      <td>345.37</td>\n",
              "      <td>345.900</td>\n",
              "      <td>345.13</td>\n",
              "      <td>345.493</td>\n",
              "      <td>544627</td>\n",
              "      <td>0</td>\n",
              "      <td>2021-12-30 19:00:00</td>\n",
              "    </tr>\n",
              "    <tr>\n",
              "      <th>2021-12-30 20:00:00</th>\n",
              "      <td>META.US</td>\n",
              "      <td>60</td>\n",
              "      <td>2021-12-30</td>\n",
              "      <td>20:00:00</td>\n",
              "      <td>345.49</td>\n",
              "      <td>346.696</td>\n",
              "      <td>345.28</td>\n",
              "      <td>346.535</td>\n",
              "      <td>565582</td>\n",
              "      <td>0</td>\n",
              "      <td>2021-12-30 20:00:00</td>\n",
              "    </tr>\n",
              "  </tbody>\n",
              "</table>\n",
              "</div>\n",
              "      <button class=\"colab-df-convert\" onclick=\"convertToInteractive('df-7d36987f-a19c-48bc-bf94-854785be710a')\"\n",
              "              title=\"Convert this dataframe to an interactive table.\"\n",
              "              style=\"display:none;\">\n",
              "        \n",
              "  <svg xmlns=\"http://www.w3.org/2000/svg\" height=\"24px\"viewBox=\"0 0 24 24\"\n",
              "       width=\"24px\">\n",
              "    <path d=\"M0 0h24v24H0V0z\" fill=\"none\"/>\n",
              "    <path d=\"M18.56 5.44l.94 2.06.94-2.06 2.06-.94-2.06-.94-.94-2.06-.94 2.06-2.06.94zm-11 1L8.5 8.5l.94-2.06 2.06-.94-2.06-.94L8.5 2.5l-.94 2.06-2.06.94zm10 10l.94 2.06.94-2.06 2.06-.94-2.06-.94-.94-2.06-.94 2.06-2.06.94z\"/><path d=\"M17.41 7.96l-1.37-1.37c-.4-.4-.92-.59-1.43-.59-.52 0-1.04.2-1.43.59L10.3 9.45l-7.72 7.72c-.78.78-.78 2.05 0 2.83L4 21.41c.39.39.9.59 1.41.59.51 0 1.02-.2 1.41-.59l7.78-7.78 2.81-2.81c.8-.78.8-2.07 0-2.86zM5.41 20L4 18.59l7.72-7.72 1.47 1.35L5.41 20z\"/>\n",
              "  </svg>\n",
              "      </button>\n",
              "      \n",
              "  <style>\n",
              "    .colab-df-container {\n",
              "      display:flex;\n",
              "      flex-wrap:wrap;\n",
              "      gap: 12px;\n",
              "    }\n",
              "\n",
              "    .colab-df-convert {\n",
              "      background-color: #E8F0FE;\n",
              "      border: none;\n",
              "      border-radius: 50%;\n",
              "      cursor: pointer;\n",
              "      display: none;\n",
              "      fill: #1967D2;\n",
              "      height: 32px;\n",
              "      padding: 0 0 0 0;\n",
              "      width: 32px;\n",
              "    }\n",
              "\n",
              "    .colab-df-convert:hover {\n",
              "      background-color: #E2EBFA;\n",
              "      box-shadow: 0px 1px 2px rgba(60, 64, 67, 0.3), 0px 1px 3px 1px rgba(60, 64, 67, 0.15);\n",
              "      fill: #174EA6;\n",
              "    }\n",
              "\n",
              "    [theme=dark] .colab-df-convert {\n",
              "      background-color: #3B4455;\n",
              "      fill: #D2E3FC;\n",
              "    }\n",
              "\n",
              "    [theme=dark] .colab-df-convert:hover {\n",
              "      background-color: #434B5C;\n",
              "      box-shadow: 0px 1px 3px 1px rgba(0, 0, 0, 0.15);\n",
              "      filter: drop-shadow(0px 1px 2px rgba(0, 0, 0, 0.3));\n",
              "      fill: #FFFFFF;\n",
              "    }\n",
              "  </style>\n",
              "\n",
              "      <script>\n",
              "        const buttonEl =\n",
              "          document.querySelector('#df-7d36987f-a19c-48bc-bf94-854785be710a button.colab-df-convert');\n",
              "        buttonEl.style.display =\n",
              "          google.colab.kernel.accessAllowed ? 'block' : 'none';\n",
              "\n",
              "        async function convertToInteractive(key) {\n",
              "          const element = document.querySelector('#df-7d36987f-a19c-48bc-bf94-854785be710a');\n",
              "          const dataTable =\n",
              "            await google.colab.kernel.invokeFunction('convertToInteractive',\n",
              "                                                     [key], {});\n",
              "          if (!dataTable) return;\n",
              "\n",
              "          const docLinkHtml = 'Like what you see? Visit the ' +\n",
              "            '<a target=\"_blank\" href=https://colab.research.google.com/notebooks/data_table.ipynb>data table notebook</a>'\n",
              "            + ' to learn more about interactive tables.';\n",
              "          element.innerHTML = '';\n",
              "          dataTable['output_type'] = 'display_data';\n",
              "          await google.colab.output.renderOutput(dataTable, element);\n",
              "          const docLink = document.createElement('div');\n",
              "          docLink.innerHTML = docLinkHtml;\n",
              "          element.appendChild(docLink);\n",
              "        }\n",
              "      </script>\n",
              "    </div>\n",
              "  </div>\n",
              "  "
            ]
          },
          "metadata": {},
          "execution_count": 3
        }
      ]
    },
    {
      "cell_type": "code",
      "execution_count": 4,
      "metadata": {
        "collapsed": true,
        "id": "83j5Dbpqqvr2"
      },
      "outputs": [],
      "source": [
        "data_to_use = stock['CLOSE'].values"
      ]
    },
    {
      "cell_type": "code",
      "execution_count": 5,
      "metadata": {
        "id": "4DwEqcF_qvr3",
        "outputId": "9dc3a524-6c9e-438d-a323-d1eed47f213a",
        "colab": {
          "base_uri": "https://localhost:8080/"
        }
      },
      "outputs": [
        {
          "output_type": "stream",
          "name": "stdout",
          "text": [
            "Total number of data points in the dataset: 1446\n"
          ]
        }
      ],
      "source": [
        "print('Total number of data points in the dataset: {}'.format(len(data_to_use)))"
      ]
    },
    {
      "cell_type": "markdown",
      "metadata": {
        "id": "gWwk0aP7qvr5"
      },
      "source": [
        "### Step 1. Data preprocessing"
      ]
    },
    {
      "cell_type": "markdown",
      "metadata": {
        "id": "dMucVcC0qvr6"
      },
      "source": [
        "#### Step 1.1 Scaling data"
      ]
    },
    {
      "cell_type": "code",
      "execution_count": 6,
      "metadata": {
        "collapsed": true,
        "id": "iASKlg9dqvr8"
      },
      "outputs": [],
      "source": [
        "scaler = StandardScaler()"
      ]
    },
    {
      "cell_type": "code",
      "execution_count": 7,
      "metadata": {
        "id": "4f7rRcYTqvr9"
      },
      "outputs": [],
      "source": [
        "scaled_dataset = scaler.fit_transform(data_to_use.reshape(-1, 1))"
      ]
    },
    {
      "cell_type": "code",
      "execution_count": 8,
      "metadata": {
        "scrolled": true,
        "id": "SesanYmJqvr_",
        "outputId": "441dc8e6-4402-417a-d43f-15227e9afe65",
        "colab": {
          "base_uri": "https://localhost:8080/",
          "height": 444
        }
      },
      "outputs": [
        {
          "output_type": "display_data",
          "data": {
            "text/plain": [
              "<Figure size 864x504 with 1 Axes>"
            ],
            "image/png": "[encoded data removed]"
          },
          "metadata": {}
        }
      ],
      "source": [
        "plt.figure(figsize=(12,7), frameon=False, facecolor='brown', edgecolor='blue')\n",
        "plt.title('Scaled META Stock Price Change from December 2021 to October 2022')\n",
        "plt.ylabel('Scaled value of stocks')\n",
        "plt.plot(scaled_dataset, label='Stocks data')\n",
        "plt.legend()\n",
        "plt.show()"
      ]
    },
    {
      "cell_type": "code",
      "execution_count": 9,
      "metadata": {
        "collapsed": true,
        "id": "3yIvqaGrqvsA"
      },
      "outputs": [],
      "source": [
        "def window_data(data, window_size):\n",
        "    X = []\n",
        "    y = []\n",
        "    \n",
        "    i = 0\n",
        "    while (i + window_size) <= len(data) - 1:\n",
        "        X.append(data[i:i+window_size])\n",
        "        y.append(data[i+window_size])\n",
        "        \n",
        "        i += 1\n",
        "    assert len(X) ==  len(y)\n",
        "    return X, y"
      ]
    },
    {
      "cell_type": "markdown",
      "metadata": {
        "id": "I6xH3uxaqvsB"
      },
      "source": [
        "#### Step 1.2 Windowing the dataset"
      ]
    },
    {
      "cell_type": "code",
      "execution_count": 10,
      "metadata": {
        "id": "GnV715rmqvsB"
      },
      "outputs": [],
      "source": [
        "X, y = window_data(scaled_dataset, 1)"
      ]
    },
    {
      "cell_type": "markdown",
      "metadata": {
        "id": "ieyC5kGVqvsC"
      },
      "source": [
        "#### Step 1.3 Creating Training and Testing sets"
      ]
    },
    {
      "cell_type": "code",
      "execution_count": 11,
      "metadata": {
        "id": "TjTujctLqvsD",
        "outputId": "a50661a5-cfbf-4ac0-ff05-45105bda3df4",
        "colab": {
          "base_uri": "https://localhost:8080/"
        }
      },
      "outputs": [
        {
          "output_type": "stream",
          "name": "stdout",
          "text": [
            "X_train size: (1155, 1, 1)\n",
            "y_train size: (1155, 1)\n",
            "X_test size: (290, 1, 1)\n",
            "y_test size: (290, 1)\n"
          ]
        }
      ],
      "source": [
        "X_train  = np.array(X[:1155])\n",
        "y_train = np.array(y[:1155])\n",
        "\n",
        "X_test = np.array(X[1155:])\n",
        "y_test = np.array(y[1155:])\n",
        "\n",
        "print(\"X_train size: {}\".format(X_train.shape))\n",
        "print(\"y_train size: {}\".format(y_train.shape))\n",
        "print(\"X_test size: {}\".format(X_test.shape))\n",
        "print(\"y_test size: {}\".format(y_test.shape))"
      ]
    },
    {
      "cell_type": "markdown",
      "metadata": {
        "id": "tD1uPSarqvsD"
      },
      "source": [
        "### Let's create the RNN"
      ]
    },
    {
      "cell_type": "code",
      "execution_count": 12,
      "metadata": {
        "collapsed": true,
        "id": "pxRXGvtXqvsE"
      },
      "outputs": [],
      "source": [
        "epochs = 50\n",
        "batch_size = 2"
      ]
    },
    {
      "cell_type": "code",
      "execution_count": 13,
      "metadata": {
        "collapsed": true,
        "id": "7_xwg2dJqvsE"
      },
      "outputs": [],
      "source": [
        "def LSTM_cell(hidden_layer_size, batch_size,number_of_layers, dropout=True, dropout_rate=0.8):\n",
        "    \n",
        "    layer = tf.compat.v1.nn.rnn_cell.BasicLSTMCell(hidden_layer_size)\n",
        "    \n",
        "    if dropout:\n",
        "        layer = tf.compat.v1.nn.rnn_cell.DropoutWrapper(layer, output_keep_prob=dropout_rate)\n",
        "        \n",
        "    cell = tf.compat.v1.nn.rnn_cell.MultiRNNCell([layer]*number_of_layers)\n",
        "    \n",
        "    init_state = cell.zero_state(batch_size, tf.float32)\n",
        "    \n",
        "    return cell, init_state"
      ]
    },
    {
      "cell_type": "code",
      "execution_count": 14,
      "metadata": {
        "collapsed": true,
        "id": "KBn3vRWwqvsE"
      },
      "outputs": [],
      "source": [
        "def output_layer(lstm_output, in_size, out_size):\n",
        "    \n",
        "    x = lstm_output[:, -1, :]\n",
        "    print(x)\n",
        "    weights = tf.Variable(tf.compat.v1.random.truncated_normal([in_size, out_size], stddev=0.05), name='output_layer_weights')\n",
        "    bias = tf.Variable(tf.zeros([out_size]), name='output_layer_bias')\n",
        "    \n",
        "    output = tf.matmul(x, weights) + bias\n",
        "    return output"
      ]
    },
    {
      "cell_type": "code",
      "execution_count": 15,
      "metadata": {
        "collapsed": true,
        "id": "U6aqRQuyqvsF"
      },
      "outputs": [],
      "source": [
        "def opt_loss(logits, targets, learning_rate, grad_clip_margin):\n",
        "    \n",
        "    losses = []\n",
        "    for i in range(targets.get_shape()[0]):\n",
        "        losses.append([(tf.pow(logits[i] - targets[i], 2))])\n",
        "        \n",
        "    loss = tf.reduce_sum(losses)/(2*batch_size)\n",
        "    \n",
        "    #Cliping the gradient loss\n",
        "    gradients = tf.gradients(loss, tf.compat.v1.trainable_variables())\n",
        "    clipper_, _ = tf.clip_by_global_norm(gradients, grad_clip_margin)\n",
        "    optimizer = tf.optimizers.Adam(learning_rate)\n",
        "    train_optimizer = optimizer.apply_gradients(zip(gradients, tf.compat.v1.trainable_variables()))\n",
        "    return loss, train_optimizer"
      ]
    },
    {
      "cell_type": "code",
      "execution_count": 16,
      "metadata": {
        "id": "TX93N2DYqvsF"
      },
      "outputs": [],
      "source": [
        "class StockPredictionRNN(object):\n",
        "    \n",
        "    def __init__(self, learning_rate=0.0005, batch_size=2, hidden_layer_size=512, number_of_layers=1, \n",
        "                 dropout=True, dropout_rate=0.8, number_of_classes=1, gradient_clip_margin=4, window_size=1):\n",
        "    \n",
        "        tf.compat.v1.disable_eager_execution()\n",
        "        self.inputs = tf.compat.v1.placeholder(tf.float32, [batch_size, window_size, 1], name='input_data')\n",
        "        self.targets = tf.compat.v1.placeholder(tf.float32, [batch_size, 1], name='targets')\n",
        "\n",
        "        cell, init_state = LSTM_cell(hidden_layer_size, batch_size, number_of_layers, dropout, dropout_rate)\n",
        "\n",
        "        outputs, states = tf.compat.v1.nn.dynamic_rnn(cell, self.inputs, initial_state=init_state)\n",
        "\n",
        "        self.logits = output_layer(outputs, hidden_layer_size, number_of_classes)\n",
        "\n",
        "        self.loss, self.opt = opt_loss(self.logits, self.targets, learning_rate, gradient_clip_margin)"
      ]
    },
    {
      "cell_type": "code",
      "execution_count": 17,
      "metadata": {
        "id": "NvBJC2cuqvsH",
        "outputId": "684f5440-945b-4e3c-fff6-03d5ed79a086",
        "colab": {
          "base_uri": "https://localhost:8080/"
        }
      },
      "outputs": [
        {
          "output_type": "stream",
          "name": "stderr",
          "text": [
            "/usr/local/lib/python3.7/dist-packages/ipykernel_launcher.py:3: UserWarning: `tf.nn.rnn_cell.BasicLSTMCell` is deprecated and will be removed in a future version. This class is equivalent as `tf.keras.layers.LSTMCell`, and will be replaced by that in Tensorflow 2.0.\n",
            "  This is separate from the ipykernel package so we can avoid doing imports until\n",
            "WARNING:tensorflow:`tf.nn.rnn_cell.MultiRNNCell` is deprecated. This class is equivalent as `tf.keras.layers.StackedRNNCells`, and will be replaced by that in Tensorflow 2.0.\n",
            "WARNING:tensorflow:From <ipython-input-16-98a63fab8ca6>:12: dynamic_rnn (from tensorflow.python.ops.rnn) is deprecated and will be removed in a future version.\n",
            "Instructions for updating:\n",
            "Please use `keras.layers.RNN(cell)`, which is equivalent to this API\n",
            "WARNING:tensorflow:From /usr/local/lib/python3.7/dist-packages/keras/layers/rnn/legacy_cells.py:726: calling Zeros.__init__ (from tensorflow.python.ops.init_ops) with dtype is deprecated and will be removed in a future version.\n",
            "Instructions for updating:\n",
            "Call initializer instance with the dtype argument instead of passing it to the constructor\n"
          ]
        },
        {
          "output_type": "stream",
          "name": "stdout",
          "text": [
            "Tensor(\"strided_slice:0\", shape=(2, 512), dtype=float32)\n"
          ]
        }
      ],
      "source": [
        "tf.compat.v1.reset_default_graph()\n",
        "model = StockPredictionRNN()"
      ]
    },
    {
      "cell_type": "markdown",
      "metadata": {
        "id": "wATzoNzaqvsI"
      },
      "source": [
        "### Time to train the network"
      ]
    },
    {
      "cell_type": "code",
      "execution_count": 18,
      "metadata": {
        "collapsed": true,
        "id": "-eh4wRg8qvsI"
      },
      "outputs": [],
      "source": [
        "session =  tf.compat.v1.Session()"
      ]
    },
    {
      "cell_type": "code",
      "execution_count": 19,
      "metadata": {
        "collapsed": true,
        "id": "rNUbTFgwqvsJ"
      },
      "outputs": [],
      "source": [
        "session.run(tf.compat.v1.global_variables_initializer())"
      ]
    },
    {
      "cell_type": "code",
      "execution_count": 20,
      "metadata": {
        "id": "qiyoA-_KqvsJ",
        "outputId": "349dff05-4feb-4640-b07d-7e1de606a287",
        "colab": {
          "base_uri": "https://localhost:8080/"
        }
      },
      "outputs": [
        {
          "output_type": "stream",
          "name": "stdout",
          "text": [
            "Epoch 0/50  Current loss: 0.2867077589035034\n",
            "Epoch 1/50  Current loss: 0.01778396964073181\n",
            "Epoch 2/50  Current loss: 0.002883583540096879\n",
            "Epoch 3/50  Current loss: 0.002886852715164423\n",
            "Epoch 4/50  Current loss: 0.0028122635558247566\n",
            "Epoch 5/50  Current loss: 0.0030575632117688656\n",
            "Epoch 6/50  Current loss: 0.002786786062642932\n",
            "Epoch 7/50  Current loss: 0.002810864243656397\n",
            "Epoch 8/50  Current loss: 0.0028143508825451136\n",
            "Epoch 9/50  Current loss: 0.003021096810698509\n",
            "Epoch 10/50  Current loss: 0.003011884167790413\n",
            "Epoch 11/50  Current loss: 0.0030554248951375484\n",
            "Epoch 12/50  Current loss: 0.002907433547079563\n",
            "Epoch 13/50  Current loss: 0.003031267086043954\n",
            "Epoch 14/50  Current loss: 0.0029876339249312878\n",
            "Epoch 15/50  Current loss: 0.003005627077072859\n",
            "Epoch 16/50  Current loss: 0.0031852771062403917\n",
            "Epoch 17/50  Current loss: 0.003098275512456894\n",
            "Epoch 18/50  Current loss: 0.0029004269745200872\n",
            "Epoch 19/50  Current loss: 0.003379660192877054\n",
            "Epoch 20/50  Current loss: 0.0030909001361578703\n",
            "Epoch 21/50  Current loss: 0.003472818760201335\n",
            "Epoch 22/50  Current loss: 0.003000580007210374\n",
            "Epoch 23/50  Current loss: 0.0030633953865617514\n",
            "Epoch 24/50  Current loss: 0.003241694765165448\n",
            "Epoch 25/50  Current loss: 0.0031248547602444887\n",
            "Epoch 26/50  Current loss: 0.0032417839393019676\n",
            "Epoch 27/50  Current loss: 0.003080707974731922\n",
            "Epoch 28/50  Current loss: 0.003306965809315443\n",
            "Epoch 29/50  Current loss: 0.0029493938200175762\n",
            "Epoch 30/50  Current loss: 0.003382934955880046\n",
            "Epoch 31/50  Current loss: 0.00321789993904531\n",
            "Epoch 32/50  Current loss: 0.003146631643176079\n",
            "Epoch 33/50  Current loss: 0.003141869092360139\n",
            "Epoch 34/50  Current loss: 0.00338841718621552\n",
            "Epoch 35/50  Current loss: 0.0033657171297818422\n",
            "Epoch 36/50  Current loss: 0.003167886985465884\n",
            "Epoch 37/50  Current loss: 0.0032860764767974615\n",
            "Epoch 38/50  Current loss: 0.0033655203878879547\n",
            "Epoch 39/50  Current loss: 0.0032483385875821114\n",
            "Epoch 40/50  Current loss: 0.0031777152325958014\n",
            "Epoch 41/50  Current loss: 0.0032268057111650705\n",
            "Epoch 42/50  Current loss: 0.0033239598851650953\n",
            "Epoch 43/50  Current loss: 0.003734021680429578\n",
            "Epoch 44/50  Current loss: 0.003241425845772028\n",
            "Epoch 45/50  Current loss: 0.0028999282512813807\n",
            "Epoch 46/50  Current loss: 0.003383582690730691\n",
            "Epoch 47/50  Current loss: 0.003453661687672138\n",
            "Epoch 48/50  Current loss: 0.003109938930720091\n",
            "Epoch 49/50  Current loss: 0.00304896617308259\n"
          ]
        }
      ],
      "source": [
        "for i in range(epochs):\n",
        "    traind_scores = []\n",
        "    ii = 0\n",
        "    epoch_loss = []\n",
        "    while(ii + batch_size) <= len(X_train):\n",
        "        X_batch = X_train[ii:ii+batch_size]\n",
        "        y_batch = y_train[ii:ii+batch_size]\n",
        "        \n",
        "        o, c, _ = session.run([model.logits, model.loss, model.opt], feed_dict={model.inputs:X_batch, model.targets:y_batch})\n",
        "        \n",
        "        epoch_loss.append(c)\n",
        "        traind_scores.append(o)\n",
        "        ii += batch_size\n",
        "    print('Epoch {}/{}'.format(i, epochs), ' Current loss: {}'.format(np.mean(epoch_loss)))"
      ]
    },
    {
      "cell_type": "code",
      "execution_count": 21,
      "metadata": {
        "collapsed": true,
        "id": "o_FlE65TqvsK"
      },
      "outputs": [],
      "source": [
        "sup =[]\n",
        "for i in range(len(traind_scores)):\n",
        "    for j in range(len(traind_scores[i])):\n",
        "        sup.append(traind_scores[i][j])"
      ]
    },
    {
      "cell_type": "code",
      "execution_count": 22,
      "metadata": {
        "collapsed": true,
        "id": "rMZzVzI1qvsL"
      },
      "outputs": [],
      "source": [
        "tests = []\n",
        "i = 0\n",
        "while i+batch_size <= len(X_test):\n",
        "    \n",
        "    o = session.run([model.logits], feed_dict={model.inputs:X_test[i:i+batch_size]})\n",
        "    i += batch_size\n",
        "    tests.append(o)\n"
      ]
    },
    {
      "cell_type": "code",
      "execution_count": 23,
      "metadata": {
        "collapsed": true,
        "id": "4LVvLBcbqvsN"
      },
      "outputs": [],
      "source": [
        "tests_new = []\n",
        "for i in range(len(tests)):\n",
        "    for j in range(len(tests[i][0])):\n",
        "        tests_new.append(tests[i][0][j])"
      ]
    },
    {
      "cell_type": "code",
      "execution_count": 24,
      "metadata": {
        "id": "PG445UtcqvsN",
        "outputId": "4e90d18e-5c47-4739-9e9d-ea005359ea6f",
        "colab": {
          "base_uri": "https://localhost:8080/"
        }
      },
      "outputs": [
        {
          "output_type": "execute_result",
          "data": {
            "text/plain": [
              "145"
            ]
          },
          "metadata": {},
          "execution_count": 24
        }
      ],
      "source": [
        "len(tests)"
      ]
    },
    {
      "cell_type": "code",
      "execution_count": 25,
      "metadata": {
        "collapsed": true,
        "id": "Hj9bbEDMqvsO",
        "outputId": "a31c6905-487d-4c2c-aa0b-57bbed9f9be5",
        "colab": {
          "base_uri": "https://localhost:8080/"
        }
      },
      "outputs": [
        {
          "output_type": "execute_result",
          "data": {
            "text/plain": [
              "1446"
            ]
          },
          "metadata": {},
          "execution_count": 25
        }
      ],
      "source": [
        "test_results = []\n",
        "for i in range(1446):\n",
        "    if i >= 1156:\n",
        "        test_results.append(tests_new[i-1156])\n",
        "    else:\n",
        "        test_results.append(None)\n",
        "\n",
        "len(test_results)"
      ]
    },
    {
      "cell_type": "markdown",
      "metadata": {
        "id": "KuSk4ZLtqvsO"
      },
      "source": [
        "### Plotting predictions from the network"
      ]
    },
    {
      "cell_type": "code",
      "execution_count": 26,
      "metadata": {
        "id": "V0g-2X9dqvsP",
        "outputId": "33bcf0e2-8b44-411d-d84d-f0cb079b5bea",
        "colab": {
          "base_uri": "https://localhost:8080/",
          "height": 483
        }
      },
      "outputs": [
        {
          "output_type": "stream",
          "name": "stderr",
          "text": [
            "/usr/local/lib/python3.7/dist-packages/numpy/core/shape_base.py:65: VisibleDeprecationWarning: Creating an ndarray from ragged nested sequences (which is a list-or-tuple of lists-or-tuples-or ndarrays with different lengths or shapes) is deprecated. If you meant to do this, you must specify 'dtype=object' when creating the ndarray.\n",
            "  ary = asanyarray(ary)\n"
          ]
        },
        {
          "output_type": "display_data",
          "data": {
            "text/plain": [
              "<Figure size 1152x504 with 1 Axes>"
            ],
            "image/png": "[encoded data removed]"
          },
          "metadata": {
            "needs_background": "light"
          }
        }
      ],
      "source": [
        "plt.figure(figsize=(16, 7))\n",
        "plt.plot(scaled_dataset, label='Original data')\n",
        "plt.plot(sup, label='Training data')\n",
        "plt.plot(test_results, label='Testing data')\n",
        "plt.legend()\n",
        "plt.show()"
      ]
    },
    {
      "cell_type": "code",
      "source": [
        "def calculate_mape(y_true, y_pred): \n",
        "    \"\"\"\n",
        "    Calculate the Mean Absolute Percentage Error (MAPE) %\n",
        "    \"\"\"\n",
        "    y_pred, y_true = np.array(y_pred), np.array(y_true)    \n",
        "    mape = np.mean(np.abs((y_true-y_pred) / y_true))*100  "
      ],
      "metadata": {
        "id": "R0tlKpJcvmV4"
      },
      "execution_count": 27,
      "outputs": []
    },
    {
      "cell_type": "code",
      "source": [
        "def calculate_rmse(y_true, y_pred):\n",
        "    \"\"\"\n",
        "    Calculate the Root Mean Squared Error (RMSE)  \n",
        "    \"\"\"\n",
        "    rmse = np.sqrt(np.mean((y_true-y_pred)**2))                   \n",
        "    return rmse"
      ],
      "metadata": {
        "id": "BrfBWgpzFAfJ"
      },
      "execution_count": 28,
      "outputs": []
    },
    {
      "cell_type": "code",
      "source": [
        "def calculate_mape(y_true, y_pred): \n",
        "    \"\"\"\n",
        "    Calculate the Mean Absolute Percentage Error (MAPE) %\n",
        "    \"\"\"\n",
        "    y_pred, y_true = np.array(y_pred), np.array(y_true)    \n",
        "    mape = np.mean(np.abs((y_true-y_pred) / y_true))*100    \n",
        "    return mape"
      ],
      "metadata": {
        "id": "yLKNBfuRLE2d"
      },
      "execution_count": 29,
      "outputs": []
    },
    {
      "cell_type": "code",
      "source": [
        "y_true = np.array(scaled_dataset[1158:1446])\n",
        "y_pred= np.array(test_results[1158:1446])\n",
        "mape_lstm=calculate_mape(y_true, y_pred)"
      ],
      "metadata": {
        "id": "20xsZcmSxDeX"
      },
      "execution_count": 30,
      "outputs": []
    },
    {
      "cell_type": "code",
      "source": [
        "rmse_lstm=calculate_rmse(scaler.inverse_transform(y_true), scaler.inverse_transform(y_pred))"
      ],
      "metadata": {
        "id": "SXQZupl0FD9D"
      },
      "execution_count": 31,
      "outputs": []
    },
    {
      "cell_type": "code",
      "source": [
        "print(\"RMSE:\", '{0:.2f}'.format(rmse_lstm))\n",
        "print(\"MAPE:\",'{0:.2f}%'.format(mape_lstm))"
      ],
      "metadata": {
        "id": "CSpxEh2UfgUE",
        "outputId": "fe8e0c3d-a065-4ccd-afa7-b19ef33ace06",
        "colab": {
          "base_uri": "https://localhost:8080/"
        }
      },
      "execution_count": 32,
      "outputs": [
        {
          "output_type": "stream",
          "name": "stdout",
          "text": [
            "RMSE: 2.31\n",
            "MAPE: 3.45%\n"
          ]
        }
      ]
    },
    {
      "cell_type": "code",
      "execution_count": 33,
      "metadata": {
        "collapsed": true,
        "id": "HuOYfbNfqvsQ"
      },
      "outputs": [],
      "source": [
        "session.close()"
      ]
    },
    {
      "cell_type": "markdown",
      "metadata": {
        "id": "dLNsUyEVqvsQ"
      },
      "source": [
        "### References\n",
        "https://modelzoo.co/model/tesla-stocks-prediction  \n",
        "https://github.com/lucko515/tesla-stocks-prediction  "
      ]
    }
  ],
  "metadata": {
    "anaconda-cloud": {},
    "kernelspec": {
      "display_name": "Python 3",
      "language": "python",
      "name": "python3"
    },
    "language_info": {
      "codemirror_mode": {
        "name": "ipython",
        "version": 3
      },
      "file_extension": ".py",
      "mimetype": "text/x-python",
      "name": "python",
      "nbconvert_exporter": "python",
      "pygments_lexer": "ipython3",
      "version": "3.9.12"
    },
    "colab": {
      "provenance": []
    }
  },
  "nbformat": 4,
  "nbformat_minor": 0
}